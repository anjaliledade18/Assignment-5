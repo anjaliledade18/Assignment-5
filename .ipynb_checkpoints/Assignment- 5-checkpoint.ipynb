{
 "cells": [
  {
   "cell_type": "code",
   "execution_count": 1,
   "id": "aadc863c",
   "metadata": {},
   "outputs": [
    {
     "name": "stdout",
     "output_type": "stream",
     "text": [
      "print the value of n (number):7\n",
      "Enter the value of power:2\n",
      "49\n"
     ]
    }
   ],
   "source": [
    "#Write a Python class to implement pow(x, n)\n",
    "\n",
    "class sol:\n",
    "  def pow(self,x,n):\n",
    "    if x==0 or x==1 or n==1:\n",
    "      return x\n",
    "    \n",
    "    if x==-1:\n",
    "      if n%2==0:\n",
    "        return 1\n",
    "      else:\n",
    "        return -1\n",
    "\n",
    "    if n==0:\n",
    "      return 1\n",
    "    if n<0:\n",
    "      return 1\n",
    "\n",
    "    val=self.pow(x,n//2)\n",
    "    if n%2==0:\n",
    "      return val*val\n",
    "    return val*val*x\n",
    "\n",
    "num=int(input(\"print the value of n (number):\"))\n",
    "p=int(input(\"Enter the value of power:\"))\n",
    "\n",
    "print(sol().pow(num,p))"
   ]
  },
  {
   "cell_type": "code",
   "execution_count": null,
   "id": "15d2278c",
   "metadata": {},
   "outputs": [],
   "source": []
  }
 ],
 "metadata": {
  "kernelspec": {
   "display_name": "Python 3 (ipykernel)",
   "language": "python",
   "name": "python3"
  },
  "language_info": {
   "codemirror_mode": {
    "name": "ipython",
    "version": 3
   },
   "file_extension": ".py",
   "mimetype": "text/x-python",
   "name": "python",
   "nbconvert_exporter": "python",
   "pygments_lexer": "ipython3",
   "version": "3.10.2"
  }
 },
 "nbformat": 4,
 "nbformat_minor": 5
}
